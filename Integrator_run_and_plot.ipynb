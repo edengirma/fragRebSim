{
 "cells": [
  {
   "cell_type": "code",
   "execution_count": null,
   "metadata": {
    "collapsed": false,
    "scrolled": true
   },
   "outputs": [],
   "source": [
    "from fragRebSim import integrator\n",
    "\n",
    "Nstars = 1\n",
    "Nfrag = 50\n",
    "s = integrator.RebSimIntegrator(Nstars, Nfrag)\n",
    "\n",
    "s.sim_integrate()"
   ]
  },
  {
   "cell_type": "code",
   "execution_count": null,
   "metadata": {
    "collapsed": false,
    "scrolled": true
   },
   "outputs": [],
   "source": [
    "import numpy as np\n",
    "import matplotlib.pyplot as plt\n",
    "%matplotlib notebook\n",
    "\n",
    "times = [point[0] for point in s.forces]\n",
    "# vels = [np.linalg.norm(point[3]) for point in s.forces]\n",
    "# v = [vel - vels[0] for vel in vels]\n",
    "# plt.plot([np.log10(t) for t in times], vels)\n",
    "# plt.show\n",
    "cluster_norm = [np.linalg.norm(point[1][0]) for point in s.forces]\n",
    "bulge_norm = [np.linalg.norm(point[1][1]) for point in s.forces]\n",
    "print len(times)==len(bulge_norm)\n",
    "disk_norm = [np.linalg.norm(point[1][2]) for point in s.forces]\n",
    "halo_norm = [np.linalg.norm(point[1][3]) for point in s.forces]\n",
    "bh_norm = [np.linalg.norm(point[1][4]) for point in s.forces]\n",
    "# accel_norm = [np.linalg.norm(point[4]) for point in s.forces]\n",
    "\n",
    "# print bh_norm\n",
    "\n",
    "cluster,= plt.plot([np.log10(t) for t in times], [np.log10(b) for b in cluster_norm], label = 'cluster')\n",
    "bulge,= plt.plot([np.log10(t) for t in times], [np.log10(b) for b in bulge_norm], label = 'bulge')\n",
    "disk,= plt.plot([np.log10(t) for t in times], [np.log10(b) for b in disk_norm], label = 'disk')\n",
    "halo,= plt.plot([np.log10(t) for t in times], [np.log10(b) for b in halo_norm], label = 'halo')\n",
    "bh,= plt.plot([np.log10(t) for t in times], [np.log10(b) for b in bh_norm], label = 'BH')\n",
    "# accel,= plt.plot([np.log10(t) for t in times], [np.log10(b) for b in accel_norm], label = 'accelerations')\n",
    "plt.legend(bbox_to_anchor=(0., 1.02, 1., .102), loc=3,\n",
    "           ncol=3, mode=\"expand\", borderaxespad=0.)\n",
    "# plt.legend(handles=[cluster, bulge, disk, halo, bh, accel])\n",
    "plt.show"
   ]
  },
  {
   "cell_type": "code",
   "execution_count": null,
   "metadata": {
    "collapsed": false
   },
   "outputs": [],
   "source": [
    "#For Jupyter/IPython notebook\n",
    "import numpy as np\n",
    "import matplotlib.pyplot as plt\n",
    "%matplotlib notebook\n",
    "from IPython.display import display, clear_output\n",
    "from mpl_toolkits.mplot3d import Axes3D\n",
    "import seaborn as sns\n",
    "sns.set(color_codes=True)\n",
    "\n",
    "fig2 = plt.figure(figsize=(10,10))\n",
    "ax2 = fig2.add_subplot(111, projection='3d')\n",
    "colors = sns.color_palette(\"hls\", Nstars).as_hex()\n",
    "\n",
    "for star in range(s.Nstars):\n",
    "    for i in range(s.Nfrag):\n",
    "#         if len(s.posx[star][i]) < s.Nout:\n",
    "#             continue\n",
    "        ax2.plot(s.posx[star][i],s.posy[star][i],s.posz[star][i], c = colors[star]);\n",
    "        ax2.scatter([s.posx[star][i][-1]],[s.posy[star][i][-1]],[s.posz[star][i][-1]],\\\n",
    "                    c = colors[star]);\n",
    "        \n",
    "for star in range(s.Nstars):\n",
    "    for i in range(s.Nfrag):\n",
    "        if len(s.posx[star][i]) < s.Nout:\n",
    "            continue\n",
    "        ax2.plot([0.0, s.posx[star][i][0]],[0.0, s.posy[star][i][0]],\\\n",
    "                 [0.0, s.posz[star][i][0]], c = colors[star]);\n",
    "\n",
    "ax2.set_xlabel('X position (kpc)')\n",
    "ax2.set_ylabel('Y position (kpc)')\n",
    "ax2.set_zlabel('Z position (kpc)')\n",
    "\n",
    "# box_size = 1\n",
    "# ax2.set_xlim(-box_size,box_size)\n",
    "# ax2.set_ylim(-box_size,box_size)\n",
    "# ax2.set_zlim(-box_size,box_size)"
   ]
  },
  {
   "cell_type": "code",
   "execution_count": null,
   "metadata": {
    "collapsed": false,
    "scrolled": false
   },
   "outputs": [],
   "source": [
    "from math import sqrt\n",
    "import seaborn as sns\n",
    "sns.set(color_codes=True)\n",
    "import pandas as pd\n",
    "\n",
    "data = []\n",
    "\n",
    "for star in range(s.Nstars):\n",
    "    for i in range(s.Nfrag):\n",
    "        point = [sqrt(s.posx[star][i][-1]**2 + s.posy[star][i][-1]**2), s.posz[star][i][-1]]\n",
    "        data.append(point)\n",
    "        \n",
    "fragdata = np.array([point for point in data])\n",
    "df = pd.DataFrame(fragdata, columns=[\"s\", \"z\"])\n",
    "\n",
    "sun_pos = pd.DataFrame([[8,0]], columns=['s', 'z'])\n",
    "\n",
    "#Scatter plots - S (sqrt(X**2+Y**2)) and Z\n",
    "f = sns.jointplot(x=\"s\", y=\"z\", data=df);\n",
    "f.set_axis_labels(\"$S = X^2 + Y^2$ (kpc)\", \"$Z$ (kpc)\");\n",
    "\n",
    "#Density plot - S and Z\n",
    "g = sns.jointplot(x=\"s\", y=\"z\", data=df, kind=\"kde\", color=\"m\")\n",
    "g.plot_joint(plt.scatter, c=\"b\", s=10, marker=\"o\")\n",
    "g.x = sun_pos.s\n",
    "g.y = sun_pos.z\n",
    "g.plot_joint(plt.scatter, c=\"r\", s=30, marker=\"o\")\n",
    "\n",
    "g.ax_joint.collections[0].set_alpha(0)\n",
    "g.set_axis_labels(\"$S = X^2 + Y^2$ (kpc)\", \"$Z$ (kpc)\");"
   ]
  },
  {
   "cell_type": "code",
   "execution_count": null,
   "metadata": {
    "collapsed": true
   },
   "outputs": [],
   "source": []
  }
 ],
 "metadata": {
  "kernelspec": {
   "display_name": "Python 2",
   "language": "python",
   "name": "python2"
  },
  "language_info": {
   "codemirror_mode": {
    "name": "ipython",
    "version": 2
   },
   "file_extension": ".py",
   "mimetype": "text/x-python",
   "name": "python",
   "nbconvert_exporter": "python",
   "pygments_lexer": "ipython2",
   "version": "2.7.11"
  }
 },
 "nbformat": 4,
 "nbformat_minor": 0
}
