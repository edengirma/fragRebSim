{
 "cells": [
  {
   "cell_type": "code",
   "execution_count": 1,
   "metadata": {
    "collapsed": false
   },
   "outputs": [
    {
     "name": "stdout",
     "output_type": "stream",
     "text": [
      "integrator imported\n"
     ]
    }
   ],
   "source": [
    "from fragRebSim import integrator as i"
   ]
  },
  {
   "cell_type": "code",
   "execution_count": 2,
   "metadata": {
    "collapsed": false
   },
   "outputs": [],
   "source": [
    "Nstars = 3\n",
    "Nfrag = 10\n",
    "s = i.RebSimIntegrator(Nstars, Nfrag)"
   ]
  },
  {
   "cell_type": "code",
   "execution_count": null,
   "metadata": {
    "collapsed": false
   },
   "outputs": [
    {
     "name": "stdout",
     "output_type": "stream",
     "text": [
      "[5502.174043103842, 5502.174043103842, 5502.174043103842, 5502.174043103842, 5502.174043103842, 5502.174043103842, 5502.174043103842, 5502.174043103842, 5502.174043103842, 5502.174043103842]\n",
      "[5186.577738351992, 5186.577738351992, 5186.577738351992, 5186.577738351992, 5186.577738351992, 5186.577738351992, 5186.577738351992, 5186.577738351992, 5186.577738351992, 5186.577738351992]\n"
     ]
    }
   ],
   "source": [
    "s.sim_integrate()"
   ]
  },
  {
   "cell_type": "code",
   "execution_count": null,
   "metadata": {
    "collapsed": false
   },
   "outputs": [],
   "source": [
    "#For Jupyter/IPython notebook\n",
    "from IPython.display import display, clear_output\n",
    "import matplotlib.pyplot as plt\n",
    "from mpl_toolkits.mplot3d import Axes3D\n",
    "import seaborn as sns\n",
    "sns.set(color_codes=True)\n",
    "%matplotlib inline\n",
    "\n",
    "fig2 = plt.figure(figsize=(10,10))\n",
    "ax2 = fig2.add_subplot(111, projection='3d')\n",
    "colors = sns.color_palette(\"hls\", Nstars).as_hex()\n",
    "\n",
    "for star in range(s.Nstars):\n",
    "    for i in range(s.Nfrag):\n",
    "        if len(s.posx[star][i]) < s.Nout:\n",
    "            continue\n",
    "        ax2.plot(s.posx[star][i],s.posy[star][i],s.posz[star][i], c = colors[star]);\n",
    "        ax2.scatter([s.posx[star][i][-1]],[s.posy[star][i][-1]],[s.posz[star][i][-1]],\\\n",
    "                    c = colors[star]);\n",
    "\n",
    "ax2.set_xlabel('X position (kpc)')\n",
    "ax2.set_ylabel('Y position (kpc)')\n",
    "ax2.set_zlabel('Z position (kpc)')\n",
    "\n",
    "# box_size = 10\n",
    "# ax2.set_xlim(-box_size,box_size)\n",
    "# ax2.set_ylim(-box_size,box_size)\n",
    "# ax2.set_zlim(-box_size,box_size)"
   ]
  },
  {
   "cell_type": "code",
   "execution_count": null,
   "metadata": {
    "collapsed": true
   },
   "outputs": [],
   "source": []
  }
 ],
 "metadata": {
  "kernelspec": {
   "display_name": "Python 3",
   "language": "python",
   "name": "python3"
  },
  "language_info": {
   "codemirror_mode": {
    "name": "ipython",
    "version": 3
   },
   "file_extension": ".py",
   "mimetype": "text/x-python",
   "name": "python",
   "nbconvert_exporter": "python",
   "pygments_lexer": "ipython3",
   "version": "3.5.1"
  }
 },
 "nbformat": 4,
 "nbformat_minor": 0
}
